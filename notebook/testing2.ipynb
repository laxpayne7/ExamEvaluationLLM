{
 "cells": [
  {
   "cell_type": "code",
   "execution_count": 1,
   "metadata": {},
   "outputs": [
    {
     "name": "stderr",
     "output_type": "stream",
     "text": [
      "f:\\DATA\\CODING\\LANGCHAIN\\venv\\lib\\site-packages\\pinecone\\data\\index.py:1: TqdmWarning: IProgress not found. Please update jupyter and ipywidgets. See https://ipywidgets.readthedocs.io/en/stable/user_install.html\n",
      "  from tqdm.autonotebook import tqdm\n"
     ]
    },
    {
     "data": {
      "text/plain": [
       "True"
      ]
     },
     "execution_count": 1,
     "metadata": {},
     "output_type": "execute_result"
    }
   ],
   "source": [
    "import streamlit as st\n",
    "\n",
    "from langchain_openai import AzureChatOpenAI, AzureOpenAI\n",
    "from langchain_openai import AzureOpenAIEmbeddings\n",
    "from langchain_text_splitters import RecursiveCharacterTextSplitter\n",
    "from langchain_core.prompts import ChatPromptTemplate\n",
    "from langchain_core.runnables import RunnablePassthrough\n",
    "from langchain_core.output_parsers import StrOutputParser\n",
    "from langchain_core.prompts import ChatPromptTemplate\n",
    "from langchain_community.document_loaders import PyPDFLoader\n",
    "from langchain_pinecone import PineconeVectorStore\n",
    "from pinecone import Pinecone\n",
    "\n",
    "import os\n",
    "\n",
    "from dotenv import load_dotenv\n",
    "load_dotenv()"
   ]
  },
  {
   "cell_type": "code",
   "execution_count": 2,
   "metadata": {},
   "outputs": [],
   "source": [
    "embeddings = AzureOpenAIEmbeddings(\n",
    "    model=\"text-embedding-3-large\",\n",
    "    azure_endpoint=os.getenv(\"AZURE_OPENAI_ENDPOINT\"),\n",
    "    api_key=os.getenv(\"OPENAI_API_KEY\")\n",
    ")\n",
    "endpoint=os.getenv(\"AZURE_CHAT_OPENAI_ENDPOINT\")\n",
    "key=os.getenv(\"OPENAI_API_KEY\")\n",
    "llm = AzureChatOpenAI(\n",
    "    deployment_name=\"gpt-4o\",\n",
    "    model_name=\"gpt-4o\",\n",
    "    azure_endpoint=endpoint,\n",
    "    api_version=\"2023-03-15-preview\",\n",
    "    openai_api_key=key,\n",
    ")"
   ]
  },
  {
   "cell_type": "code",
   "execution_count": 3,
   "metadata": {},
   "outputs": [
    {
     "name": "stderr",
     "output_type": "stream",
     "text": [
      "f:\\DATA\\CODING\\LANGCHAIN\\venv\\lib\\site-packages\\pypdf\\_crypt_providers\\_cryptography.py:32: CryptographyDeprecationWarning: ARC4 has been moved to cryptography.hazmat.decrepit.ciphers.algorithms.ARC4 and will be removed from this module in 48.0.0.\n",
      "  from cryptography.hazmat.primitives.ciphers.algorithms import AES, ARC4\n"
     ]
    }
   ],
   "source": [
    "documents=[]\n",
    "loader=PyPDFLoader(\"social science 32-2-1 Solution.pdf\")\n",
    "docs=loader.load()\n",
    "documents.extend(docs)"
   ]
  },
  {
   "cell_type": "code",
   "execution_count": 4,
   "metadata": {},
   "outputs": [],
   "source": [
    "text_splitter = RecursiveCharacterTextSplitter(chunk_size=5000, chunk_overlap=500)\n",
    "splits = text_splitter.split_documents(documents) \n",
    "\n",
    "index_name = os.getenv(\"PINECONE_INDEX\") # put in the name of your pinecone index here\n",
    "\n",
    "pc = Pinecone(\n",
    "api_key = os.getenv(\"PINECONE_API_KEY\"),\n",
    ")\n",
    "\n",
    "pc.list_indexes().names() # to check if my index exsist\n",
    "index = pc.Index(index_name)\n",
    "index.describe_index_stats()\n",
    "\n",
    "vectorstore = PineconeVectorStore(pinecone_api_key = os.getenv(\"PINECONE_API_KEY\"), index_name= index_name, embedding=embeddings, index= index)\n",
    "vectorstore.add_texts(texts=[t.page_content for t in splits])\n",
    "retriever = vectorstore.as_retriever()"
   ]
  },
  {
   "cell_type": "code",
   "execution_count": 5,
   "metadata": {},
   "outputs": [],
   "source": [
    "true_answer_prompt = \"\"\"\n",
    "You are a teacher. You will answer the following question. The points that should be present in your answer is present in the context provided. You must strictly follow it. You should not give the answer outside the context. However, You have to elaborate the points with your own understanding. You have to answer the question pointwise.\n",
    "\n",
    "Question: {question} \n",
    "Context: {context} \n",
    "Answer:\n",
    "\"\"\"\n",
    "\n",
    "true_answer_generator = ChatPromptTemplate.from_messages([\n",
    "(\"human\",true_answer_prompt),\n",
    "])\n",
    "\n",
    "def format_docs(docs):\n",
    "    return \"\\n\\n\".join(doc.page_content for doc in docs)\n",
    "\n",
    "\n",
    "rag_chain = (\n",
    "    {\"context\": retriever | format_docs, \"question\": RunnablePassthrough()}\n",
    "    | true_answer_generator\n",
    "    | llm\n",
    "    | StrOutputParser()\n",
    ")"
   ]
  },
  {
   "cell_type": "code",
   "execution_count": 6,
   "metadata": {},
   "outputs": [],
   "source": [
    "question = \"Question No: 32 (b). Democracy accommodates social diversities. Analyse. It is a 5 mark question.\"\n",
    "true_answer = rag_chain.invoke(question)"
   ]
  },
  {
   "cell_type": "code",
   "execution_count": 7,
   "metadata": {},
   "outputs": [
    {
     "name": "stdout",
     "output_type": "stream",
     "text": [
      "**Question No: 32 (b). Democracy accommodates social diversities. Analyse.**\n",
      "\n",
      "1. **Peaceful and Harmonious Life:**\n",
      "   - **Explanation:** Democracy helps in the accommodation of social diversity, allowing citizens to lead peaceful and harmonious lives. This is achieved by ensuring that different social groups can coexist and work together within the same political framework.\n",
      "   - **Example:** Belgium is a prime example where democracy has successfully negotiated differences among ethnic populations, including Dutch-speaking Flemish and French-speaking Walloons, to maintain national unity and peace.\n",
      "\n",
      "2. **Procedures to Accommodate Competition:**\n",
      "   - **Explanation:** Democracies typically develop procedures to accommodate competition among various social groups. These mechanisms are essential to ensure that all groups have a platform to express their interests and compete fairly.\n",
      "   - **Example:** In India, the reservation system in education and employment for Scheduled Castes, Scheduled Tribes, and Other Backward Classes is a procedure developed to accommodate competition and provide equal opportunities to historically disadvantaged groups.\n",
      "\n",
      "3. **Mechanisms to Handle Social Differences:**\n",
      "   - **Explanation:** Democracies are better equipped to evolve mechanisms for handling and negotiating social differences, divisions, and conflicts. These mechanisms include institutions and processes that mediate between conflicting interests.\n",
      "   - **Example:** The establishment of the Truth and Reconciliation Commission in post-apartheid South Africa is an example of a democratic mechanism to handle deep social divisions and promote healing and unity.\n",
      "\n",
      "4. **Majority Works with Minority:**\n",
      "   - **Explanation:** In a democracy, the majority often works with the minority to ensure that the government represents the general view of the population. This cooperation is crucial for creating inclusive policies that consider the needs of all social groups.\n",
      "   - **Example:** In Switzerland, the principle of consociationalism ensures that all major political and linguistic groups are represented in the Federal Council, promoting cooperation and representation.\n",
      "\n",
      "5. **Preventing the Tyranny of the Majority:**\n",
      "   - **Explanation:** Democracies strive to ensure that the rule of the majority does not become the tyranny of the majority. This means protecting minority rights and ensuring that the interests of minority groups are considered in decision-making processes.\n",
      "   - **Example:** The United States has various checks and balances, including the Bill of Rights, to protect minority rights against the possible excesses of majority rule.\n",
      "\n",
      "6. **Other Relevant Points:**\n",
      "   - **Explanation:** Democracies often have independent institutions like the judiciary and human rights commissions that protect social diversities and ensure justice and equality for all citizens.\n",
      "   - **Example:** The role of the Supreme Court in India in upholding the rights and freedoms of individuals, including marginalized communities, exemplifies how independent institutions contribute to accommodating social diversities.\n",
      "\n",
      "These points highlight how democracy, by its very nature, is designed to manage and accommodate social diversities, ensuring a more inclusive and equitable society.\n"
     ]
    }
   ],
   "source": [
    "print(true_answer)"
   ]
  },
  {
   "cell_type": "code",
   "execution_count": 8,
   "metadata": {},
   "outputs": [],
   "source": [
    "with open(\"student_answer.txt\", \"r\") as file:\n",
    "    # Read the entire content into a variable\n",
    "    student_answer = file.read()\n"
   ]
  },
  {
   "cell_type": "code",
   "execution_count": 23,
   "metadata": {},
   "outputs": [],
   "source": [
    "grading_criteria = \"\"\"\n",
    "\n",
    "1) Relevance to the context of the question\n",
    "2) Examples and Illustrations\n",
    "\n",
    "Any repetition or duplicate points shall not fetch any mark.\n",
    "\n",
    "\"\"\"\n",
    "\n",
    "evaluaton_analysis = \"\"\"\n",
    "\n",
    "1) Student's Answer Breakdown along with feedback\n",
    "2) Final Score along with breakup\n",
    "\n",
    "\"\"\""
   ]
  },
  {
   "cell_type": "code",
   "execution_count": 24,
   "metadata": {},
   "outputs": [
    {
     "name": "stdout",
     "output_type": "stream",
     "text": [
      "**Evaluation Analysis:**\n",
      "\n",
      "### Student's Answer Breakdown and Feedback:\n",
      "\n",
      "1. **Technological advancements and globalisation (Paragraph 1 & 3):**\n",
      "   - **Relevance to the context:** The discussion on technological advancements and their role in globalisation is not relevant to the question about democracy accommodating social diversities. \n",
      "   - **Examples and Illustrations:** The examples given are about transportation and communication improvements, which do not pertain to the mechanisms democracy employs to manage social diversities.\n",
      "\n",
      "2. **Institutional mechanisms like dialogue, negotiation, and legislation (Paragraph 2 & 4):**\n",
      "   - **Relevance to the context:** These points are relevant to the question as they discuss how democratic systems have institutional mechanisms to address social differences.\n",
      "   - **Examples and Illustrations:** The example of the National Commission for Scheduled Castes and Scheduled Tribes in India is appropriate and illustrates how democracy can help marginalized communities.\n",
      "\n",
      "3. **Majority working with minority (Paragraph 5):**\n",
      "   - **Relevance to the context:** This point is directly relevant to the question as it discusses how the majority collaborates with the minority in a democracy.\n",
      "   - **Examples and Illustrations:** The example of Switzerland's political system ensuring representation of both majority and minority groups is appropriate and well-illustrated.\n",
      "\n",
      "### Final Score Breakdown:\n",
      "\n",
      "1. **Technological advancements and globalisation:**\n",
      "   - **Marks:** 0/5\n",
      "   - **Reason:** Irrelevant to the question.\n",
      "\n",
      "2. **Institutional mechanisms like dialogue, negotiation, and legislation (first instance):**\n",
      "   - **Marks:** 1/5\n",
      "   - **Reason:** Relevant and includes an appropriate example.\n",
      "\n",
      "3. **Institutional mechanisms like dialogue, negotiation, and legislation (second instance):**\n",
      "   - **Marks:** 0/5\n",
      "   - **Reason:** Repetition of the previous point, which does not fetch any additional marks.\n",
      "\n",
      "4. **Majority working with minority:**\n",
      "   - **Marks:** 2/5\n",
      "   - **Reason:** Relevant to the question and includes an appropriate example.\n",
      "\n",
      "### Final Analysis:\n",
      "\n",
      "The student provided some relevant points and examples concerning democracy and how it accommodates social diversities, specifically through institutional mechanisms and the collaboration between majority and minority groups. However, substantial portions of the answer were irrelevant, focusing on technological advancements and globalisation, which do not pertain to the core question. Additionally, there was a repetition of points about institutional mechanisms which did not add any new information.\n",
      "\n",
      "### Final Score: 3/5\n",
      "\n",
      "### Feedback:\n",
      "\n",
      "- **Strengths:** The points about institutional mechanisms and majority-minority cooperation were well articulated and relevant to the question, with appropriate examples.\n",
      "- **Areas for Improvement:** Focus on the specific topic of the question and avoid unrelated content. Ensure that each point is unique and contributes new information to avoid repetition.\n",
      "\n"
     ]
    }
   ],
   "source": [
    "answer_evaluation_prompt = f\"\"\"\n",
    "You are a teacher who will evaluate and grade an exam. You are given a question and the student's answer. You have to evaluate the answer with respect to the true answer and give marks as per the relevance to the true answer. You will give marks as following the Grading Criteria. You will give a short analysis of the answer which contains: \n",
    "\n",
    "Question: {question} \n",
    "Student's answer: {student_answer} \n",
    "True Answer: {true_answer}\n",
    "Grading Criteria: {grading_criteria}\n",
    "Evaluation Analysis: {evaluaton_analysis}\n",
    "Answer:\n",
    "\"\"\"\n",
    "\n",
    "# true_answer_generator = ChatPromptTemplate.from_messages([\n",
    "# (\"human\",true_answer_prompt),\n",
    "# ])\n",
    "\n",
    "\n",
    "# ## chain \n",
    "# chain=true_answer_generator|llm\n",
    "\n",
    "response=llm.invoke(answer_evaluation_prompt)\n",
    "print(response.content)\n",
    "\n",
    "\n",
    "\n",
    "# def format_docs(docs):\n",
    "#     return \"\\n\\n\".join(doc.page_content for doc in docs)\n",
    "\n",
    "\n",
    "\n",
    "# true_answer_chain = (\n",
    "#     { | format_docs, \"question\": RunnablePassthrough()}\n",
    "#     | true_answer_generator\n",
    "#     | llm\n",
    "#     | StrOutputParser()\n",
    "# )\n",
    "\n"
   ]
  },
  {
   "cell_type": "code",
   "execution_count": null,
   "metadata": {},
   "outputs": [
    {
     "data": {
      "text/plain": [
       "'\\nYou are a teacher grading a quiz.\\nYou are given a question, the student’s answer, and the points, that should be in the student answer, and are asked to score the student answer as either CORRECT or INCORRECT\\n'"
      ]
     },
     "execution_count": 50,
     "metadata": {},
     "output_type": "execute_result"
    }
   ],
   "source": [
    "\"\"\"\n",
    "You are a teacher grading a quiz.\n",
    "You are given a question, the student’s answer, and the points, that should be in the student answer, and are asked to score the student answer as either CORRECT or INCORRECT\n",
    "\n",
    "Example Format:\n",
    "QUESTION: question here\n",
    "STUDENT ANSWER: student’s answer here\n",
    "POINTS IN THE ANSWER: true answer here\n",
    "GRADE: CORRECT or INCORRECT here”\n",
    "\"\"\""
   ]
  },
  {
   "cell_type": "code",
   "execution_count": 52,
   "metadata": {},
   "outputs": [
    {
     "data": {
      "text/plain": [
       "'\\nHuman\\n\\nYou are question-answering assistant tasked with answering questions based on the provided context.\\n\\nHere is the question: \\n{question}\\n\\nUse the following pieces of context to answer the question at the end. Use three sentences maximum. \\n{context}\\n\\n### Assistant\\n\\nAnswer: Think step by step.\\n'"
      ]
     },
     "execution_count": 52,
     "metadata": {},
     "output_type": "execute_result"
    }
   ],
   "source": [
    "\"\"\"\n",
    "Human\n",
    "\n",
    "You are question-answering assistant tasked with answering questions based on the provided context.\n",
    "\n",
    "Here is the question: \\\n",
    "\n",
    "{question}\n",
    "\n",
    "Use the following pieces of context to answer the question at the end. Use three sentences maximum. \\\n",
    "\n",
    "{context}\n",
    "\n",
    "### Assistant\n",
    "\n",
    "Answer: Think step by step.\n",
    "\"\"\""
   ]
  },
  {
   "cell_type": "code",
   "execution_count": 53,
   "metadata": {},
   "outputs": [
    {
     "data": {
      "text/plain": [
       "\"\\nYou are a student who read the context and is now answering the question for an exam. Use the following pieces of retrieved context to answer the question. If you don't know the answer, just say that you don't know. Answer in 500 words if question is of 5 marks. Answer in 200 words if question is of 2 marks. Answer only using the context provided. Answer point wise.\\n\\n\""
      ]
     },
     "execution_count": 53,
     "metadata": {},
     "output_type": "execute_result"
    }
   ],
   "source": [
    "\"\"\"\n",
    "You are a student who read the context and is now answering the question for an exam. Use the following pieces of retrieved context to answer the question. If you don't know the answer, just say that you don't know. Answer in 500 words if question is of 5 marks. Answer in 200 words if question is of 2 marks. Answer only using the context provided. Answer point wise.\n",
    "\n",
    "\"\"\""
   ]
  }
 ],
 "metadata": {
  "kernelspec": {
   "display_name": "Python 3",
   "language": "python",
   "name": "python3"
  },
  "language_info": {
   "codemirror_mode": {
    "name": "ipython",
    "version": 3
   },
   "file_extension": ".py",
   "mimetype": "text/x-python",
   "name": "python",
   "nbconvert_exporter": "python",
   "pygments_lexer": "ipython3",
   "version": "3.10.15"
  }
 },
 "nbformat": 4,
 "nbformat_minor": 2
}
