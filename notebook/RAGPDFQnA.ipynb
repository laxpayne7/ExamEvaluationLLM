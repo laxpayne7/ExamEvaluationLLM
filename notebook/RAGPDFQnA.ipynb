{
 "cells": [
  {
   "cell_type": "code",
   "execution_count": 15,
   "metadata": {},
   "outputs": [],
   "source": [
    "import streamlit as st\n",
    "from langchain.chains import create_history_aware_retriever, create_retrieval_chain\n",
    "from langchain.chains.combine_documents import create_stuff_documents_chain\n",
    "from langchain_chroma import Chroma\n",
    "from langchain_community.chat_message_histories import ChatMessageHistory\n",
    "from langchain_core.chat_history import BaseChatMessageHistory\n",
    "from langchain_core.prompts import ChatPromptTemplate, MessagesPlaceholder\n",
    "from langchain_groq import ChatGroq\n",
    "from langchain_core.runnables.history import RunnableWithMessageHistory\n",
    "from langchain_huggingface import HuggingFaceEmbeddings\n",
    "from langchain_text_splitters import RecursiveCharacterTextSplitter\n",
    "from langchain_community.document_loaders import PyPDFLoader\n",
    "#from langchain.document_loaders import PDFMinerLoader\n",
    "#from langchain_community.document_loaders import PDFMinerLoader\n",
    "from langchain.globals import set_debug\n",
    "import os\n",
    "import chromadb\n",
    "from langchain_openai import AzureChatOpenAI\n",
    "from langchain_openai import AzureOpenAIEmbeddings\n",
    "from langchain.vectorstores import FAISS\n",
    "\n"
   ]
  },
  {
   "cell_type": "code",
   "execution_count": 13,
   "metadata": {},
   "outputs": [
    {
     "data": {
      "text/plain": [
       "Document(metadata={'source': 'temp.pdf', 'page': 551}, page_content=\"a sentence like that, not to be lucid at any other time: He was wrong to \\nattempt to hang himself with bedsheets in the night. He was wrong to hurl \\nhimself against a windo w. He was wrong to try to slash his wrist with a \\ndinner fork. Altogether he was wrong about so many things that, except for \\nher four days in New York and her two Christmases in Philadelphia and her \\nthree weeks of recovery from hip surgery, she never failed  to visit him. She \\nhad to tell him, while she still had time, how wrong he'd been and how right \\nshe'd been. How wrong not to love her more, how wrong not to cherish her \\nand have sex at every opportu nity, how wrong not to trust her financial \\ninstincts, how  wrong to have spent so much time at work and so little with \\nthe children, how wrong to have been so negative, how wrong to have been so \\ngloomy, how wrong to have run away from life, how wrong to have said no, \\nagain and again, instead of yes: she had to te ll him all of this, every single \\nday. Even if he wouldn't listen, she had to tell him.  \\nHe'd been living at the Deepmire Home for two years when he stopped \\naccepting food. Chip took time away from parenthood and his new teaching \\njob at a private high school  and his eighth revision of the screenplay to visit \\nfrom Chicago and say goodbye. Alfred lasted longer after that than anyone \\nexpected. He was a lion to the end. His blood pressure was barely measurable \\nwhen Denise and Gary flew into town, and still he liv ed another week. He lay \\ncurled up on the bed and barely breathed. He moved for nothing and \\nresponded to nothing except to shake his head emphatically, once, if Enid \\ntried to put an ice chip in his mouth. The one thing he never forgot was how \\nto refuse. All  of her correction had been for naught. He was as stubborn as \\nthe day she'd met him. And yet when he was dead, when she'd pressed her \\nlips to his forehead and walked out with Denise and Gary into the warm \\nspring night, she felt that nothing could kill her hope now, nothing. She was \\nseventy -five and she was going to make some changes in her life.\")"
      ]
     },
     "execution_count": 13,
     "metadata": {},
     "output_type": "execute_result"
    }
   ],
   "source": [
    "documents=[]\n",
    "temppdf=f\"./temp.pdf\"\n",
    "loader=PyPDFLoader(\"temp.pdf\")\n",
    "#docs = loader.load_and_split()\n",
    "docs=loader.load()\n",
    "documents.extend(docs)\n",
    "text_splitter = RecursiveCharacterTextSplitter(chunk_size=10000, chunk_overlap=1000)\n",
    "splits = text_splitter.split_documents(documents)\n",
    "splits[-1]"
   ]
  },
  {
   "cell_type": "code",
   "execution_count": 20,
   "metadata": {},
   "outputs": [
    {
     "data": {
      "text/plain": [
       "[Document(metadata={'source': 'temp.pdf', 'page': 546}, page_content=\"THE CORRECTION, when it finally came, was not an overnight bursting of a \\nbubble but a much more gentle letdow n, a year -long leakage of value from \\nkey financial markets, a contraction too gradual to generate head lines and \\ntoo predictable to seriously hurt anybody but fools and the working poor.  \\nIt seemed to Enid that current events in general were more muted or i nsipid \\nnowadays than they'd been in her youth. She had memories of the 1930s, \\nshe'd seen firsthand what could happen to a country when the world \\neconomy took its gloves off; she'd helped her mother pass out leftovers to \\nhomeless men in the alley behind the ir roominghouse. But disasters of this \\nmagnitude no longer seemed to befall the United States. Safety features had \\nbeen put in place, like the squares of rubber that every modern playground \\nwas paved with, to soften impacts.  \\nNevertheless, the markets did c ollapse, and Enid, who hadn't dreamed that \\nshe would ever be glad that Alfred had locked their assets up in annuities and \\nT-bills, weathered the downturn with less anxiety than her high -flying \\nfriends. Orfic Midland did, as threatened, termi nate her tradi tional health \\ninsurance and force her into an HMO, but her old neighbor Dean Driblett, \\nwith the stroke of a pen, bless his heart, upgraded her and Alfred to \\nDeeDeeCare Choice Plus, which allowed her to keep her favorite doctors. She \\nstill had major non reimbursable monthly nursing -home expenses, but by \\nscrimping she was able to pay the bills with Alfred's pension and Railroad \\nRetirement benefits, and meanwhile her house, which she owned outright, \\ncontin ued to appreciate. The simple truth was that, although  she wasn't rich, \\nshe also wasn't poor. Somehow this truth had eluded her during the years of \\nher anxiety and uncertainty about Alfred, but as soon as he was out of the \\nhouse and she'd caught up on her sleep, she saw it clearly.  \\nShe saw everything more cle arly now, her children in particular.  \\n563\"),\n",
       " Document(metadata={'source': 'temp.pdf', 'page': 116}, page_content='of fun. Pretty low risk. No such thing as no risk, though. Not where there\\'s \\nmoney.\"  \\n\"I understand,\" Chip said, touching the hundreds.  \\nIn the pageantry of weddings En id reliably experienced the paroxysmal love \\nof place —of the Midwest in general and suburban St. Jude in par ticular —that \\nfor her was the only true patriotism and the only viable spirituality. Living \\nunder presidents as crooked as Nixon and stupid as Reagan  and disgusting as \\nClinton, sjie\\'d lost interest in American flag -waving, and not one of the \\nmiracles she\\'d ever prayed to God for had come to pass; but at a Saturday \\nwedding in the lilac season, from a pew of the Paradise Valley Presbyterian \\nChurch, she c ould look around and see two hundred nice people and not a \\nsingle bad one. All her friends were nice and had nice friends, and since nice \\npeople tended to raise nice children, Enid\\'s world was like a lawn in which \\nthe bluegrass grew so thick that evil was simply choked out: a miracle of \\nniceness. If, for ex ample, it was one of Esther and Kirby Root\\'s girls coming \\ndown the Presbyterian aisle on Kirby\\'s arm, Enid would remember how the \\nlittle Root had trick -or-treated in a ballerina costume, vended Girl Scou t \\ncookies, and baby -sat Denise, and how, even after the Root girls had gone off \\nto good midwestern colleges, they all still made a point, when home on \\nholiday, of tapping on Enid\\'s back door and filling her in on the doings chez \\nRoot, often sitting and vis iting for an hour or more (and not, Enid knew, \\nbecause Esther had told them to come over but just be cause they were good \\nSt. Jude kids who naturally took an interest in other people), and Enid\\'s heart \\nwould swell at the sight of yet another sweetly charit able Root girl now \\nreceiving, as her reward, the vows of a young man with a neat haircut of the \\nkind you saw in ads for menswear, a really super young fellow who had an \\nupbeat attitude and was polite to older people and didn\\'t believe in \\npremarital sex, an d who had a job that contributed to society, such as \\nelectrical engineer or environmental biologist, and who came from a loving, \\nstable, traditional family and wanted to start a loving, stable, traditional \\nfamily of his own. Unless Enid was very much decei ved by appearances, \\nyoung men of this caliber continued, even as the twentieth century drew to a \\nclose, to be the norm  \\n118 \\nTHE CORRECTIONS'),\n",
       " Document(metadata={'source': 'temp.pdf', 'page': 234}, page_content=\"slipped into her bed. It wasn't a wonderful life, but a woman could sub sist on \\nself-deceptions like these and on her memories (which also now curiously \\nseemed like self -deceptions) of the early years when he'd been mad for her \\nand had looked into her ey es. The important thing was to keep it all tacit. If \\nthe act was never spoken of, there would be no reason to discontinue it until \\nshe was definitely pregnant again, and even after pregnancy no reason not to \\nresume it, as long as it was never men tioned.  \\nShe'd always wanted three children. The longer nature denied her a third, the \\nless fulfilled she felt in comparison to her neighbors. Bea Meisner, though \\nfatter and dumber than Enid, publicly smooched with her husband, Chuck; \\ntwice a month the Meisners hire d a sitter and went dancing. Every October \\nwithout fail Dale Driblett took his wife, Honey, someplace extravagant and \\nout of state for their anniversary, and the many young Dribletts all had \\nbirthdays in July. Even Esther and Kirby Root could be seen at ba rbecues \\npatting each other's well -marbled bottoms. It frightened and shamed Enid, \\nthe loving -kindness of other couples. She was a bright girl with good business \\nskills who had gone directly from ironing sheets and tablecloths at her \\nmother's board -inghouse  to ironing sheets and shirts chez Lambert. In every \\nneighbor woman's eyes she saw the tacit question: Did Al at least make her \\nfeel super -special in that special way?  \\nAs soon as she was visibly pregnant again, she had a tacit answer. The \\nchanges in her body were incontrovertible, and she imagined so vividly the \\nflattering inferences about her love life that Bea and Esther and Honey might \\ndraw from these changes that soo n enough she drew the inferences herself.  \\nMade happy in this way by pregnancy, she got sloppy and talked about the \\nwrong thing to Alfred. Not, needless to say, about sex or ful filment or \\nfairness. But there were other topics scarcely less forbidden, and E nid in her \\ngiddiness one morning overstepped. She suggested he buy shares of a certain \\nstock. Alfred said the stock market was a lot of dangerous nonsense best left \\nto wealthy men and idle speculators. Enid ^gsested he nonetheless buy \\nshares of a certain s tock. Alfred said he remembered Black Tuesday as if it \\nwere yesterday. Enid suggested he  \\n243\"),\n",
       " Document(metadata={'source': 'temp.pdf', 'page': 327}, page_content='summer. In fact, let me see a show of hands here, how many of you are \\npaying for this cruise, either entirely or in part, on the strength of your \\ninvestments?\"  \\nForest of raised hands.  \\nJim Crolius nodded with satisfaction. \"Well, folks, I hate to break it t o you, \\nbut those leaves are starting to turn. No matter how green things are for you \\nright now, it\\'s not going to survive the winter. Of course, every year is \\ndifferent, every cycle\\'s different. You never know exactly when that green is \\ngoing to turn. But we\\'re here, every one of us, because we\\'re foresighted \\npeople. Every person in this room has proved to me she\\'s a smart investor, \\njust by virtue of being here. You know why? Because it was still summer \\nwhen you left home. Every person in this room had the foresight to know that \\nsomething was going to change on this cruise. And the question we all have —\\nI\\'m speaking in metaphors here —the question is: Will all that glorious green \\nout there turn to glorious gold? Or will it all just wither on the branch in the \\nwinter of our discontent?\"  \\nThe Longstocking Ballroom was electric with excitement now. There were \\nmurmurs of \"Marvelous! Marvelous!\"  \\n\"More matter and less art,\" Sylvia Roth said dryly.  \\nDeath, Enid thought. He was talking about death. And all the peo ple cl apping \\nwere so old.  \\nBut where was the sting of this realization? Asian had taken it away.  \\nJim Crolius turned now to the easel and flipped over the first of its big \\nnewsprint pages. The second page was headed WHEN THE CLIMATE \\nCHANGES, and the categories —Fun ds, Bonds, Common Stock, etc. — drew a \\ngasp from the front row out of all proportion to the informa tional content. \\nFor an instant it seemed to Enid as if Jim Crolius were doing a technical \\nmarket analysis of the kind that her broker in St. Jude had told he r never to \\npay attention to. Discounting the minimal effects of wind drag at low \\nvelocities, something \"plummeting\" (a thing of value \"plunging\" in a \"free \\nfall\") experienced an acceleration due to gravity of 32 feet per second \\nsquared, and, acceleration b eing the second -order derivative of distance, the \\nanalyst could integrate once over the distance the object had fallen (roughly \\n30 feet) to calculate its  \\n537')]"
      ]
     },
     "execution_count": 20,
     "metadata": {},
     "output_type": "execute_result"
    }
   ],
   "source": [
    "#embeddings=HuggingFaceEmbeddings(model_name=\"all-MiniLM-L6-v2\")\n",
    "embeddings = AzureOpenAIEmbeddings(\n",
    "    model=\"text-embedding-3-large\",\n",
    "    azure_endpoint=\"",\n",
    "    api_key=\"\"\n",
    ")\n",
    "\n",
    "vectorstore = FAISS.from_documents(documents=splits, embedding=embeddings)\n",
    "retriever = vectorstore.as_retriever() \n",
    "query = \"The dumb faith that there would always be a future\"\n",
    "vectorstore.similarity_search(query)"
   ]
  }
 ],
 "metadata": {
  "kernelspec": {
   "display_name": "Python 3",
   "language": "python",
   "name": "python3"
  },
  "language_info": {
   "codemirror_mode": {
    "name": "ipython",
    "version": 3
   },
   "file_extension": ".py",
   "mimetype": "text/x-python",
   "name": "python",
   "nbconvert_exporter": "python",
   "pygments_lexer": "ipython3",
   "version": "3.10.15"
  }
 },
 "nbformat": 4,
 "nbformat_minor": 2
}
